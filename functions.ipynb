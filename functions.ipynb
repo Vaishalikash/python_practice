{
 "cells": [
  {
   "cell_type": "code",
   "execution_count": 4,
   "metadata": {},
   "outputs": [
    {
     "name": "stdout",
     "output_type": "stream",
     "text": [
      "<function funct at 0x000001EB3545E5E0>\n",
      "None\n"
     ]
    }
   ],
   "source": [
    "# allow us to reuse code\n",
    "# def is used to create a function\n",
    "# def funct(): so in pythpn we can leave a function blank is we dont want to \n",
    "# write any code in it for now and just want to create for later we can use pass keyword\n",
    "def funct():\n",
    "    pass\n",
    "# if we want to run our function\n",
    "# funct() #should hav parenthesis after fun name\n",
    "print(funct) #if we dont do\n",
    "print(funct())#to execute \n",
    "    "
   ]
  },
  {
   "cell_type": "code",
   "execution_count": 1,
   "metadata": {},
   "outputs": [
    {
     "name": "stdout",
     "output_type": "stream",
     "text": [
      "hello\n"
     ]
    }
   ],
   "source": [
    "def funct():\n",
    "    print(\"hello\")\n",
    "    \n",
    "funct()    \n",
    "    "
   ]
  },
  {
   "cell_type": "code",
   "execution_count": 5,
   "metadata": {},
   "outputs": [
    {
     "name": "stdout",
     "output_type": "stream",
     "text": [
      "name vaishali\n",
      "age 24\n"
     ]
    }
   ],
   "source": [
    "#types of arguments\n",
    "#positional arguments : discussed earlier\n",
    "#keyword arguments:\n",
    "def print_details(name,age):\n",
    "    print(\"name\",name)\n",
    "    print(\"age\",age+1)\n",
    "print_details(age=23,name=\"vaishali\")    "
   ]
  },
  {
   "cell_type": "code",
   "execution_count": 6,
   "metadata": {},
   "outputs": [],
   "source": [
    "#default argument:discussed"
   ]
  },
  {
   "cell_type": "code",
   "execution_count": 8,
   "metadata": {},
   "outputs": [
    {
     "ename": "TypeError",
     "evalue": "num() takes 2 positional arguments but 5 were given",
     "output_type": "error",
     "traceback": [
      "\u001b[1;31m---------------------------------------------------------------------------\u001b[0m",
      "\u001b[1;31mTypeError\u001b[0m                                 Traceback (most recent call last)",
      "\u001b[1;32m<ipython-input-8-b96e9f994b57>\u001b[0m in \u001b[0;36m<module>\u001b[1;34m\u001b[0m\n\u001b[0;32m      2\u001b[0m     \u001b[0mprint\u001b[0m\u001b[1;33m(\u001b[0m\u001b[0ma\u001b[0m\u001b[1;33m)\u001b[0m\u001b[1;33m\u001b[0m\u001b[1;33m\u001b[0m\u001b[0m\n\u001b[0;32m      3\u001b[0m     \u001b[0mprint\u001b[0m\u001b[1;33m(\u001b[0m\u001b[0mb\u001b[0m\u001b[1;33m)\u001b[0m\u001b[1;33m\u001b[0m\u001b[1;33m\u001b[0m\u001b[0m\n\u001b[1;32m----> 4\u001b[1;33m \u001b[0mnum\u001b[0m\u001b[1;33m(\u001b[0m\u001b[1;36m3\u001b[0m\u001b[1;33m,\u001b[0m\u001b[1;36m4\u001b[0m\u001b[1;33m,\u001b[0m\u001b[1;36m4\u001b[0m\u001b[1;33m,\u001b[0m\u001b[1;36m5\u001b[0m\u001b[1;33m,\u001b[0m\u001b[1;36m3\u001b[0m\u001b[1;33m)\u001b[0m\u001b[1;33m\u001b[0m\u001b[1;33m\u001b[0m\u001b[0m\n\u001b[0m\u001b[0;32m      5\u001b[0m \u001b[1;33m\u001b[0m\u001b[0m\n",
      "\u001b[1;31mTypeError\u001b[0m: num() takes 2 positional arguments but 5 were given"
     ]
    }
   ],
   "source": [
    "def num(a,b):\n",
    "    print(a)\n",
    "    print(b)\n",
    "num(3,4,4,5,3)    \n",
    "    "
   ]
  },
  {
   "cell_type": "code",
   "execution_count": 10,
   "metadata": {},
   "outputs": [
    {
     "name": "stdout",
     "output_type": "stream",
     "text": [
      "2\n",
      "(3, 4, 2, 3, 4, 3, 2)\n"
     ]
    }
   ],
   "source": [
    "#one more type of argument that is variable length argument\n",
    "def num(a,*args):\n",
    "    print(a)\n",
    "    print(args)\n",
    "num(2,3,4,2,) #(3,4,2) will pass as a tuple"
   ]
  },
  {
   "cell_type": "code",
   "execution_count": 12,
   "metadata": {},
   "outputs": [
    {
     "name": "stdout",
     "output_type": "stream",
     "text": [
      "2\n",
      "3\n",
      "4\n",
      "4\n"
     ]
    }
   ],
   "source": [
    "#args can hav any name\n",
    "# talk abput possition of a and args\n",
    "\n",
    "def num(a,*b):\n",
    "    print(a)\n",
    "    for i in b:\n",
    "        print(i)\n",
    "num(2,3,4,4)        "
   ]
  },
  {
   "cell_type": "code",
   "execution_count": 13,
   "metadata": {},
   "outputs": [
    {
     "name": "stdout",
     "output_type": "stream",
     "text": [
      "rahul\n",
      "9876\n",
      "delhi\n",
      "sde\n"
     ]
    }
   ],
   "source": [
    "# can be of any data type\n",
    "def details(a,*b):\n",
    "    print(a)\n",
    "    for i in b:\n",
    "        print(i)\n",
    "details(\"rahul\",24,\"delhi\",8765)        \n"
   ]
  },
  {
   "cell_type": "code",
   "execution_count": 15,
   "metadata": {},
   "outputs": [
    {
     "name": "stdout",
     "output_type": "stream",
     "text": [
      "name rahul\n",
      "age 98878\n",
      "place delhi\n",
      "id 24\n"
     ]
    }
   ],
   "source": [
    "def details(a,*b):\n",
    "    print(\"name\",a)\n",
    "    print(\"age\",b[0])\n",
    "    print(\"place\",b[1])\n",
    "    print(\"id\",b[2])\n",
    "details(\"rahul\",24,\"delhi\",98878)  \n",
    "# change arument position/ :will give wrong ans\n",
    "    "
   ]
  },
  {
   "cell_type": "code",
   "execution_count": 19,
   "metadata": {},
   "outputs": [
    {
     "name": "stdout",
     "output_type": "stream",
     "text": [
      "name rahul\n",
      "age 24\n",
      "place delhi\n",
      "id 98878\n"
     ]
    }
   ],
   "source": [
    "def details(a,**b):\n",
    "    print(\"name\",a)\n",
    "    for i,j in b.items():\n",
    "        print(i,j)\n",
    "    \n",
    "    \n",
    "details(\"rahul\",age=24,place=\"delhi\",id=98878) #now we can access keys \n",
    "# it will take as a dictionary"
   ]
  },
  {
   "cell_type": "code",
   "execution_count": 21,
   "metadata": {},
   "outputs": [
    {
     "name": "stdout",
     "output_type": "stream",
     "text": [
      "16\n"
     ]
    }
   ],
   "source": [
    "# we hv seen how to create a function by using def keyword and function name\n",
    "# but what if we want to use any fuction at only once and dont want to like \n",
    "# create whole function , we can define a anonymous funvtion without giving \n",
    "# any name and return type , so anonymouse function in python is called lambda \n",
    "# suppose we want to find square of a number \n",
    "# a*a\n",
    "# a: a*a\n",
    "# lambda a : a*a \n",
    "# as every thing in python is a object so as function we have to assign it to some\n",
    "# variable\n",
    "x= lambda a:a*a\n",
    "result = x(4)\n",
    "print(result) #you can say like we are doing the same thing whats benifit of lambda \n",
    "# right , so wait for time being , we will see the benifits when we use this in another\n",
    "# functions\n"
   ]
  },
  {
   "cell_type": "code",
   "execution_count": 22,
   "metadata": {},
   "outputs": [
    {
     "name": "stdout",
     "output_type": "stream",
     "text": [
      "10\n"
     ]
    }
   ],
   "source": [
    "x= lambda a,b:a+b #we can pass n number of arguments but should have only one expression\n",
    "result = x(4,6)\n",
    "print(result)"
   ]
  },
  {
   "cell_type": "code",
   "execution_count": 31,
   "metadata": {},
   "outputs": [],
   "source": [
    "#lets talk about the 3 funcs filter map reduce in which we ca use our lambda function\n",
    "num=[32,54,34,87,56,76,23,12]\n",
    "# want list of values greater than 50, we have seen earlier how can we do \n",
    "# we can use filter function\n",
    "# new_num=filter(#function,#iterable variable) \n"
   ]
  },
  {
   "cell_type": "code",
   "execution_count": 35,
   "metadata": {},
   "outputs": [
    {
     "name": "stdout",
     "output_type": "stream",
     "text": [
      "[54, 87, 56, 76]\n"
     ]
    }
   ],
   "source": [
    "# we want to number >50 so function will give number greater than 50\n",
    "def iseven(n):\n",
    "    return n>50\n",
    "nums=list(filter(iseven,num)) #filter will give sequence of values so convert it in list\n",
    "print(nums)"
   ]
  },
  {
   "cell_type": "code",
   "execution_count": 36,
   "metadata": {},
   "outputs": [
    {
     "name": "stdout",
     "output_type": "stream",
     "text": [
      "[54, 87, 56, 76]\n"
     ]
    }
   ],
   "source": [
    "# istead of function use lambda\n",
    "nums2=list(filter(lambda x : x>50 , num))\n",
    "print(nums2)"
   ]
  },
  {
   "cell_type": "code",
   "execution_count": null,
   "metadata": {},
   "outputs": [],
   "source": [
    "#to find intersection of two given list using lambda\n",
    "num1=[1,2,3,4,5]\n",
    "nm=[3,4,5,6,7]\n",
    "num=list(filter(lambda x : x in nm ,  num1))\n",
    "print(num)\n"
   ]
  },
  {
   "cell_type": "code",
   "execution_count": 52,
   "metadata": {},
   "outputs": [
    {
     "name": "stdout",
     "output_type": "stream",
     "text": [
      "[4, 16, 64, 36, 25]\n"
     ]
    }
   ],
   "source": [
    "num=[2,4,8,6,5]#want square of these map(funct,iterable)\n",
    "def sq(n):\n",
    "    return n*n\n",
    "num3=list(map(sq,num))\n",
    "print(num3)"
   ]
  },
  {
   "cell_type": "code",
   "execution_count": 38,
   "metadata": {},
   "outputs": [
    {
     "name": "stdout",
     "output_type": "stream",
     "text": [
      "[4, 16, 64, 36, 25]\n"
     ]
    }
   ],
   "source": [
    "num3=list(map(lambda x : x*x,num)) #we are mapping every element of \n",
    "#num to the fuction and storing in list\n",
    "print(num3)"
   ]
  },
  {
   "cell_type": "code",
   "execution_count": null,
   "metadata": {},
   "outputs": [],
   "source": []
  },
  {
   "cell_type": "code",
   "execution_count": 54,
   "metadata": {},
   "outputs": [
    {
     "name": "stdout",
     "output_type": "stream",
     "text": [
      "[14, 18, 16]\n"
     ]
    }
   ],
   "source": [
    "# add 2 given list\n",
    "num1=[7,9,8]\n",
    "num2=[7,9,8]\n",
    "num3=list(map(lambda x,y : x+y,num1,num2))\n",
    "print(num3)"
   ]
  },
  {
   "cell_type": "code",
   "execution_count": 45,
   "metadata": {},
   "outputs": [
    {
     "name": "stdout",
     "output_type": "stream",
     "text": [
      "37\n"
     ]
    }
   ],
   "source": [
    " #we want sumof the list\n",
    "from functools import reduce\n",
    "num=[7,9,7,8,6]\n",
    "\n",
    "def summ(a,b):\n",
    "    return a+b\n",
    "    \n",
    "\n",
    "nums=reduce(summ,num) #this reduce function belongs one module functool\n",
    "print(nums)"
   ]
  },
  {
   "cell_type": "code",
   "execution_count": 46,
   "metadata": {},
   "outputs": [
    {
     "name": "stdout",
     "output_type": "stream",
     "text": [
      "37\n"
     ]
    }
   ],
   "source": [
    "nums=reduce(lambda a,b :a+b,num) #this reduce function belongs one module functool\n",
    "print(nums)"
   ]
  },
  {
   "cell_type": "code",
   "execution_count": 48,
   "metadata": {},
   "outputs": [
    {
     "name": "stdout",
     "output_type": "stream",
     "text": [
      "10\n"
     ]
    }
   ],
   "source": [
    "# calculate max from list\n",
    "arr=[7,9,10,8,6]\n",
    "result = reduce(lambda x,y: x if x>y else y,arr)\n",
    "print(result)"
   ]
  },
  {
   "cell_type": "code",
   "execution_count": 49,
   "metadata": {},
   "outputs": [
    {
     "name": "stdout",
     "output_type": "stream",
     "text": [
      "4.4\n"
     ]
    }
   ],
   "source": [
    "num=[100,233,98,-87,9]\n",
    "valid_cms=list(filter(lambda x : x>0 ,num))\n",
    "mtrs=list(map(lambda x: x/100,valid_cms))\n",
    "total=reduce(lambda x ,y : x+y,mtrs)\n",
    "print(total)"
   ]
  },
  {
   "cell_type": "code",
   "execution_count": 15,
   "metadata": {},
   "outputs": [
    {
     "name": "stdout",
     "output_type": "stream",
     "text": [
      "<class 'list'>\n",
      "my name -is vaishali kashyap\n"
     ]
    }
   ],
   "source": [
    "# strr=\"my name -is vaishali kashyap\"\n",
    "# word=strr.split(\" \")\n",
    "# print(type(word))\n",
    "# x=' '.join(word)\n",
    "# print(x)"
   ]
  },
  {
   "cell_type": "code",
   "execution_count": null,
   "metadata": {},
   "outputs": [],
   "source": []
  },
  {
   "cell_type": "code",
   "execution_count": null,
   "metadata": {},
   "outputs": [],
   "source": []
  }
 ],
 "metadata": {
  "kernelspec": {
   "display_name": "Python 3",
   "language": "python",
   "name": "python3"
  },
  "language_info": {
   "codemirror_mode": {
    "name": "ipython",
    "version": 3
   },
   "file_extension": ".py",
   "mimetype": "text/x-python",
   "name": "python",
   "nbconvert_exporter": "python",
   "pygments_lexer": "ipython3",
   "version": "3.8.5"
  }
 },
 "nbformat": 4,
 "nbformat_minor": 4
}
