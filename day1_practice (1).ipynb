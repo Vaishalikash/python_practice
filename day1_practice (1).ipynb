{
 "cells": [
  {
   "cell_type": "code",
   "execution_count": 7,
   "metadata": {},
   "outputs": [
    {
     "name": "stdout",
     "output_type": "stream",
     "text": [
      "140735102199616 140735102199616\n"
     ]
    }
   ],
   "source": [
    "\n",
    "y=2\n",
    "z=2\n",
    "id(x)\n",
    "print(id(y),id(x))\n"
   ]
  },
  {
   "cell_type": "code",
   "execution_count": 8,
   "metadata": {},
   "outputs": [
    {
     "name": "stdout",
     "output_type": "stream",
     "text": [
      "140735102199648\n"
     ]
    }
   ],
   "source": [
    "x=3\n",
    "print(id(x))"
   ]
  },
  {
   "cell_type": "code",
   "execution_count": 11,
   "metadata": {},
   "outputs": [
    {
     "name": "stdout",
     "output_type": "stream",
     "text": [
      "9\n"
     ]
    }
   ],
   "source": [
    "PI=9\n",
    "print(PI)"
   ]
  },
  {
   "cell_type": "code",
   "execution_count": 13,
   "metadata": {},
   "outputs": [
    {
     "name": "stdout",
     "output_type": "stream",
     "text": [
      "<class 'str'> <class 'int'> <class 'float'>\n"
     ]
    }
   ],
   "source": [
    "#variables is like a container  where we can put our value\n",
    "var1 = \"hello world\"\n",
    "var2 = 4\n",
    "var3 =36.7 #python intellginet automaticaly give the type to the variale\n",
    "print(type(var1),type(var2),type(var3))"
   ]
  },
  {
   "cell_type": "code",
   "execution_count": 28,
   "metadata": {},
   "outputs": [],
   "source": [
    "x=2\n",
    "y=3\n",
    "z=x+y\n",
    "a=x-y\n",
    "b=x/3\n",
    "c=x%y\n",
    "d=x*y\n",
    "e=x**y"
   ]
  },
  {
   "cell_type": "code",
   "execution_count": 14,
   "metadata": {},
   "outputs": [
    {
     "name": "stdout",
     "output_type": "stream",
     "text": [
      "<class 'float'>\n"
     ]
    }
   ],
   "source": [
    "var4=var2+var3\n",
    "print(type(var4))"
   ]
  },
  {
   "cell_type": "code",
   "execution_count": 15,
   "metadata": {},
   "outputs": [
    {
     "name": "stdout",
     "output_type": "stream",
     "text": [
      "6598\n"
     ]
    }
   ],
   "source": [
    "v=\"65\"\n",
    "b=\"98\"\n",
    "print(v+b)"
   ]
  },
  {
   "cell_type": "code",
   "execution_count": 22,
   "metadata": {},
   "outputs": [
    {
     "name": "stdout",
     "output_type": "stream",
     "text": [
      "<class 'float'> 163.0\n"
     ]
    }
   ],
   "source": [
    "#typecast\n",
    "vint=int(v)\n",
    "bint=int(b)\n",
    "# v3=str(vint+bint)\n",
    "v3=float(vint+bint)\n",
    "print(type(v3),v3)"
   ]
  },
  {
   "cell_type": "code",
   "execution_count": 25,
   "metadata": {},
   "outputs": [
    {
     "name": "stdout",
     "output_type": "stream",
     "text": [
      "65\n",
      "656565\n",
      "195\n"
     ]
    }
   ],
   "source": [
    "\n",
    "print(v)\n",
    "print(v*3)\n",
    "print(int(v)*3)"
   ]
  },
  {
   "cell_type": "code",
   "execution_count": 30,
   "metadata": {},
   "outputs": [
    {
     "name": "stdout",
     "output_type": "stream",
     "text": [
      "<class 'bool'>\n"
     ]
    }
   ],
   "source": [
    "\n",
    "x=True\n",
    "print(type(x))"
   ]
  },
  {
   "cell_type": "code",
   "execution_count": 44,
   "metadata": {},
   "outputs": [
    {
     "name": "stdout",
     "output_type": "stream",
     "text": [
      "0.0\n",
      "1\n"
     ]
    }
   ],
   "source": [
    "y=False\n",
    "print(float(y))\n",
    "print(int(x))\n",
    "\n",
    "# inp = input() # take input as string we cane type cast to convert\n"
   ]
  },
  {
   "cell_type": "code",
   "execution_count": 51,
   "metadata": {},
   "outputs": [
    {
     "name": "stdout",
     "output_type": "stream",
     "text": [
      "vaishali \n",
      "kashyap\n"
     ]
    }
   ],
   "source": [
    "#strings\n",
    "name=\"vaishali \"\n",
    "sname=\"kashyap\"\n",
    "fname=name+sname\n",
    "print(name)\n",
    "print(sname)"
   ]
  },
  {
   "cell_type": "code",
   "execution_count": 52,
   "metadata": {},
   "outputs": [
    {
     "name": "stdout",
     "output_type": "stream",
     "text": [
      "vaishali kashyap\n"
     ]
    }
   ],
   "source": [
    "print(name+sname)"
   ]
  },
  {
   "cell_type": "code",
   "execution_count": 53,
   "metadata": {},
   "outputs": [
    {
     "data": {
      "text/plain": [
       "'i'"
      ]
     },
     "execution_count": 53,
     "metadata": {},
     "output_type": "execute_result"
    }
   ],
   "source": [
    "fname[2]"
   ]
  },
  {
   "cell_type": "code",
   "execution_count": 65,
   "metadata": {},
   "outputs": [
    {
     "name": "stdout",
     "output_type": "stream",
     "text": [
      " \n",
      "p\n",
      "vaisha\n",
      "hali \n",
      "ishali kashyap\n",
      "vaishali\n",
      "payhsak ilahsiav\n",
      "vaishali kashyap\n"
     ]
    }
   ],
   "source": [
    "print(fname[8])\n",
    "print(fname[-1])\n",
    "print(fname[-4])\n",
    "print(fname[0:6])#exclusive 6 including 0\n",
    "print(fname[4:9])\n",
    "print(fname[2:])\n",
    "print(fname[:8])\n",
    "print(fname[::])#print full\n",
    "print(fname[::-1])\n",
    "print(fname[0:100])# ignore\n",
    "# fname[8]=\"k\" error: string in python is immutable"
   ]
  },
  {
   "cell_type": "code",
   "execution_count": 67,
   "metadata": {},
   "outputs": [
    {
     "name": "stdout",
     "output_type": "stream",
     "text": [
      "vihl aha\n",
      "ihl\n"
     ]
    }
   ],
   "source": [
    "print(fname[::2]) #print after alternative gap 2\n",
    "print(fname[2:8:2]) #print alternative of string 2 to 8th\n",
    "length = len(fname)\n"
   ]
  },
  {
   "cell_type": "code",
   "execution_count": 70,
   "metadata": {},
   "outputs": [
    {
     "name": "stdout",
     "output_type": "stream",
     "text": [
      "HELLO WORLD!\n",
      "hello world!\n",
      "3\n",
      "2\n",
      "3\n",
      "1\n",
      "False\n",
      "False\n",
      "Hello world!\n"
     ]
    }
   ],
   "source": [
    "s = \"hello World!\"\n",
    "print(s.upper())\n",
    "print(s.lower())\n",
    "print(s.count(\"l\"))\n",
    "print(s.count(\"l\", 3))\n",
    "print(s.count(\"l\", 2))\n",
    "print(s.count(\"l\", 4))\n",
    "print(s.startswith(\"He\"))\n",
    "print(s.endswith(\"e!\"))\n",
    "print(s.capitalize()) #capital fisrt lttre\n"
   ]
  },
  {
   "cell_type": "code",
   "execution_count": 71,
   "metadata": {},
   "outputs": [
    {
     "name": "stdout",
     "output_type": "stream",
     "text": [
      "9 rfkr\n"
     ]
    }
   ],
   "source": [
    "operators\n",
    "a,b=9,4\n"
   ]
  },
  {
   "cell_type": "code",
   "execution_count": 72,
   "metadata": {},
   "outputs": [],
   "source": [
    "#operators : we have seen arthmetic operators lets see some assignment operatos\n",
    "x = 3\n",
    "x += 3\n",
    "x -= 3\n",
    "x *= 3\n",
    "x /= 3 #x = x / 3\n",
    "x //= 3 #gives floor valeu x = x // 3\n",
    "\n"
   ]
  },
  {
   "cell_type": "code",
   "execution_count": 75,
   "metadata": {},
   "outputs": [
    {
     "data": {
      "text/plain": [
       "True"
      ]
     },
     "execution_count": 75,
     "metadata": {},
     "output_type": "execute_result"
    }
   ],
   "source": [
    "#comparison operator\n",
    "x,y=9,8\n",
    "# x==y\n",
    "# x != y\n",
    "x > y\n",
    "x >= y"
   ]
  },
  {
   "cell_type": "code",
   "execution_count": 77,
   "metadata": {},
   "outputs": [
    {
     "data": {
      "text/plain": [
       "False"
      ]
     },
     "execution_count": 77,
     "metadata": {},
     "output_type": "execute_result"
    }
   ],
   "source": [
    "#logical operators\n",
    "x < 5 and  x < 10  #&\n",
    "x < 5 or x < 4     #|\n",
    "not(x < 5 and x < 10) reverse the result\n",
    "\n",
    "\n",
    "\n"
   ]
  },
  {
   "cell_type": "code",
   "execution_count": 79,
   "metadata": {},
   "outputs": [
    {
     "data": {
      "text/plain": [
       "True"
      ]
     },
     "execution_count": 79,
     "metadata": {},
     "output_type": "execute_result"
    }
   ],
   "source": [
    "#identity\n",
    "x=9\n",
    "y=9\n",
    "x is y #returns true of both refers to same object"
   ]
  },
  {
   "cell_type": "code",
   "execution_count": 80,
   "metadata": {},
   "outputs": [
    {
     "ename": "NameError",
     "evalue": "name 'age' is not defined",
     "output_type": "error",
     "traceback": [
      "\u001b[1;31m---------------------------------------------------------------------------\u001b[0m",
      "\u001b[1;31mNameError\u001b[0m                                 Traceback (most recent call last)",
      "\u001b[1;32m<ipython-input-80-f7f8796f6aa1>\u001b[0m in \u001b[0;36m<module>\u001b[1;34m\u001b[0m\n\u001b[0;32m      1\u001b[0m \u001b[1;31m#conditional statements #ifelse\u001b[0m\u001b[1;33m\u001b[0m\u001b[1;33m\u001b[0m\u001b[1;33m\u001b[0m\u001b[0m\n\u001b[1;32m----> 2\u001b[1;33m \u001b[1;32mif\u001b[0m \u001b[0mage\u001b[0m \u001b[1;33m>=\u001b[0m\u001b[1;36m18\u001b[0m\u001b[1;33m:\u001b[0m\u001b[1;33m\u001b[0m\u001b[1;33m\u001b[0m\u001b[0m\n\u001b[0m\u001b[0;32m      3\u001b[0m     \u001b[0mprint\u001b[0m\u001b[1;33m(\u001b[0m\u001b[1;34m\"can vote\"\u001b[0m\u001b[1;33m)\u001b[0m\u001b[1;33m\u001b[0m\u001b[1;33m\u001b[0m\u001b[0m\n\u001b[0;32m      4\u001b[0m \u001b[1;33m\u001b[0m\u001b[0m\n\u001b[0;32m      5\u001b[0m \u001b[1;31m# if-elif-else structure\u001b[0m\u001b[1;33m\u001b[0m\u001b[1;33m\u001b[0m\u001b[1;33m\u001b[0m\u001b[0m\n",
      "\u001b[1;31mNameError\u001b[0m: name 'age' is not defined"
     ]
    }
   ],
   "source": [
    "#conditional statements #ifelse\n",
    "age = 65\n",
    "if age >=18:\n",
    "    print(\"can vote\")\n",
    "\n",
    "# if-elif-else structure\n",
    "\n",
    "# if is mandatory, elif is optional [0, 1, ...N], else is optional [0, 1]\n",
    "age = 65\n",
    "# if age > 20:\n",
    "#     if age > 60:\n",
    "#         print(\"Senior\")\n",
    "#     print(\"Adult\")\n",
    "# elif age > 5:\n",
    "#     print(\"Kid\")\n",
    "# else:\n",
    "#     print(\"Baby\")    \n",
    "\n",
    "\n"
   ]
  },
  {
   "cell_type": "code",
   "execution_count": 81,
   "metadata": {},
   "outputs": [
    {
     "name": "stdout",
     "output_type": "stream",
     "text": [
      "Even\n"
     ]
    }
   ],
   "source": [
    "# Odd, Even problem\n",
    "num = 6\n",
    "# print(\"Odd\")\n",
    "# print(\"Even\")\n",
    "if num % 2 == 0:\n",
    "    print(\"Even\")\n",
    "else:\n",
    "    print(\"Odd\")"
   ]
  },
  {
   "cell_type": "code",
   "execution_count": 82,
   "metadata": {},
   "outputs": [
    {
     "name": "stdout",
     "output_type": "stream",
     "text": [
      "8\n"
     ]
    }
   ],
   "source": [
    "a, b, c, d = 5, 4, 3, 8\n",
    "# Find the max - the easy way\n",
    "if a > b and a > c and a > d:\n",
    "    print(a)\n",
    "elif b > a and b > c and b > d:\n",
    "    print(b)\n",
    "elif c > a and c > b and c > d:\n",
    "    print(c)\n",
    "else:\n",
    "    print(d)"
   ]
  },
  {
   "cell_type": "code",
   "execution_count": 83,
   "metadata": {},
   "outputs": [
    {
     "name": "stdout",
     "output_type": "stream",
     "text": [
      "s\n"
     ]
    }
   ],
   "source": [
    "# to check, whether a triangle is equilateral, isosceles, or scalene\n",
    "if a == b and b == c and c == a:\n",
    "    print(\"e\")\n",
    "elif a == b or b == c or c == a:\n",
    "    print(\"i\")\n",
    "else:\n",
    "    print(\"s\")\n"
   ]
  },
  {
   "cell_type": "code",
   "execution_count": 84,
   "metadata": {},
   "outputs": [
    {
     "name": "stdout",
     "output_type": "stream",
     "text": [
      "1,2,3,4,5,6,7,8,9,10,11,12,13,14,15,16,17,18,19,20,21,22,23,24,25,26,27,28,29,30,31,32,33,34,35,36,37,38,39,40,41,42,43,44,45,46,47,48,49,50,51,52,53,54,55,56,57,58,59,60,61,62,63,64,65,66,67,68,69,70,71,72,73,74,75,76,77,78,79,80,81,82,83,84,85,86,87,88,89,90,91,92,93,94,95,96,97,98,99,100\n"
     ]
    }
   ],
   "source": [
    "# # print first 100 natural numbers\n",
    "for i in range(1, 101):\n",
    "    if i < 100:\n",
    "        print(i, end=\",\")\n",
    "    else:\n",
    "        print(i)"
   ]
  },
  {
   "cell_type": "code",
   "execution_count": 85,
   "metadata": {},
   "outputs": [],
   "source": [
    "# print square of first 100 natural numbers\n",
    "for num in range(1, 101):\n",
    "    print(num**2, end=\",\")\n",
    "print"
   ]
  },
  {
   "cell_type": "code",
   "execution_count": 86,
   "metadata": {},
   "outputs": [
    {
     "name": "stdout",
     "output_type": "stream",
     "text": [
      "Hello World\n",
      "0\n",
      "Hello World\n",
      "1\n",
      "Hello World\n",
      "2\n",
      "Hello World\n",
      "3\n",
      "Hello World\n",
      "4\n",
      "Hello World\n",
      "5\n",
      "Hello World\n",
      "6\n",
      "Hello World\n",
      "7\n",
      "Hello World\n",
      "8\n",
      "Hello World\n",
      "9\n"
     ]
    }
   ],
   "source": [
    "# print \"hello world\" 10 times\n",
    "for i in range(10):\n",
    "    print(\"Hello World\") #This will print 'Hello World' 10x times and i from 0 to 9 as index initialize from 0\n",
    "    print(i)\n"
   ]
  },
  {
   "cell_type": "code",
   "execution_count": 87,
   "metadata": {},
   "outputs": [
    {
     "name": "stdout",
     "output_type": "stream",
     "text": [
      "104,117,130,143,156,169,182,195,\n",
      "--------------------\n"
     ]
    }
   ],
   "source": [
    "# multiples of 13 between [100, 200]\n",
    "for num in range(100, 201):\n",
    "    if num % 13 == 0:\n",
    "        print(num, end=\",\")  #We are using end=\",\" to make the consecutive output in the same line and not next line\n",
    "print()\n",
    "print(\"-\"*20)"
   ]
  },
  {
   "cell_type": "code",
   "execution_count": 88,
   "metadata": {},
   "outputs": [
    {
     "name": "stdout",
     "output_type": "stream",
     "text": [
      "False\n",
      "Enter  number: 9\n",
      "18\n"
     ]
    }
   ],
   "source": [
    "num = 7\n",
    "result = True\n",
    "for i in range(2, int(num**2)+1):\n",
    "    if num % i == 0:\n",
    "        result = False\n",
    "print(result)\n",
    "\n",
    "# how to take input from user\n",
    "output = int(input(\"Enter  number: \"))\n",
    "print(output*2)"
   ]
  },
  {
   "cell_type": "code",
   "execution_count": 89,
   "metadata": {},
   "outputs": [
    {
     "name": "stdout",
     "output_type": "stream",
     "text": [
      "0\n",
      "1\n",
      "2\n",
      "3\n",
      "4\n",
      "5\n",
      "6\n",
      "7\n",
      "8\n",
      "9\n"
     ]
    }
   ],
   "source": [
    "i = 0\n",
    "while i<=output:\n",
    "    print(i)\n",
    "    i = i + 1"
   ]
  },
  {
   "cell_type": "code",
   "execution_count": 90,
   "metadata": {},
   "outputs": [
    {
     "name": "stdout",
     "output_type": "stream",
     "text": [
      "[100, 99, 56, 76, 45, 30]\n"
     ]
    }
   ],
   "source": [
    "#lists : stores a series of items in a particular order . items can be accesse using idex or with loops\n",
    "marks = [100, 99, 56, 76, 45, 30]\n",
    "print(marks)\n",
    "#then show indexing print(marks[-1]) # indexing\n",
    "b = [\"a\", 1, \"anant\", 2.1, True] "
   ]
  },
  {
   "cell_type": "code",
   "execution_count": 91,
   "metadata": {},
   "outputs": [
    {
     "name": "stdout",
     "output_type": "stream",
     "text": [
      "[100, 101, 56, 76, 45, 30]\n",
      "[101, 56, 76, 45]\n",
      "[100, 101, 56, 76, 45]\n",
      "76\n",
      "[101, 76, 30]\n"
     ]
    }
   ],
   "source": [
    "#value assignement\n",
    "x = 1\n",
    "marks[1] = 101\n",
    "print(marks)\n",
    "\n",
    "#splicing can done \n",
    "print(marks[1:5])\n",
    "print(marks[:5])\n",
    "print(marks[-3])\n",
    "print(marks[1::2])\n",
    "#[7:8:-3] does not work in list"
   ]
  },
  {
   "cell_type": "code",
   "execution_count": 94,
   "metadata": {},
   "outputs": [
    {
     "name": "stdout",
     "output_type": "stream",
     "text": [
      "[100, 101, 34, 56, 76, 45, 30, 33, [34, 67, 43]]\n",
      "[100, 101, 34, 56, 76, 45, 30, 33, [34, 67, 43], 33, [34, 67, 43], 34, 45, 65]\n"
     ]
    }
   ],
   "source": [
    "print(marks)\n",
    "marks.append(33) # inserts the element in the end\n",
    "marks.append([34,67,43]) #append whole list\n",
    "#marks.insert(1,67) 1=index 67=valsue\n",
    "marks.extend([34,45,65]) #just appned the number\n",
    "print(marks)"
   ]
  },
  {
   "cell_type": "code",
   "execution_count": 93,
   "metadata": {},
   "outputs": [
    {
     "name": "stdout",
     "output_type": "stream",
     "text": [
      "[100, 101, 34, 56, 76, 45, 30, 33, [34, 67, 43]]\n"
     ]
    }
   ],
   "source": [
    "# marks.insert(2, 34) #at 2 put 34\n",
    "# print(marks)"
   ]
  },
  {
   "cell_type": "code",
   "execution_count": 95,
   "metadata": {},
   "outputs": [],
   "source": [
    "marks.remove([34,67,43])"
   ]
  },
  {
   "cell_type": "code",
   "execution_count": 96,
   "metadata": {},
   "outputs": [
    {
     "name": "stdout",
     "output_type": "stream",
     "text": [
      "[100, 101, 34, 56, 76, 45, 30, 33, 33, [34, 67, 43], 34, 45, 65]\n"
     ]
    }
   ],
   "source": [
    "print(marks)"
   ]
  },
  {
   "cell_type": "code",
   "execution_count": 98,
   "metadata": {},
   "outputs": [
    {
     "name": "stdout",
     "output_type": "stream",
     "text": [
      "[100, 101, 34, 56, 76, 45, 30, [34, 67, 43], 34, 45, 65]\n"
     ]
    }
   ],
   "source": [
    "marks.remove(33)#remove all 3\n",
    "print(marks)"
   ]
  },
  {
   "cell_type": "code",
   "execution_count": 100,
   "metadata": {},
   "outputs": [
    {
     "data": {
      "text/plain": [
       "2"
      ]
     },
     "execution_count": 100,
     "metadata": {},
     "output_type": "execute_result"
    }
   ],
   "source": [
    "marks.count(34) "
   ]
  },
  {
   "cell_type": "markdown",
   "metadata": {},
   "source": [
    "max(marks)"
   ]
  },
  {
   "cell_type": "code",
   "execution_count": 153,
   "metadata": {},
   "outputs": [],
   "source": [
    "# max(marks) min(marks) sum(marks) len(marks)"
   ]
  },
  {
   "cell_type": "code",
   "execution_count": 102,
   "metadata": {},
   "outputs": [
    {
     "name": "stdout",
     "output_type": "stream",
     "text": [
      "[1, 2, 3, 4]\n"
     ]
    }
   ],
   "source": [
    "y = [1, 2] + [3, 4] # list concatenation\n",
    "print(y)"
   ]
  },
  {
   "cell_type": "code",
   "execution_count": 103,
   "metadata": {},
   "outputs": [
    {
     "name": "stdout",
     "output_type": "stream",
     "text": [
      "1\n",
      "2\n",
      "3\n",
      "4\n"
     ]
    }
   ],
   "source": [
    "for i in y:\n",
    "    print(i)\n"
   ]
  },
  {
   "cell_type": "code",
   "execution_count": 104,
   "metadata": {},
   "outputs": [
    {
     "name": "stdout",
     "output_type": "stream",
     "text": [
      "0 100\n",
      "1 101\n",
      "2 34\n",
      "3 56\n",
      "--------------------\n",
      "100\n",
      "101\n",
      "34\n",
      "56\n",
      "76\n",
      "45\n",
      "30\n",
      "[34, 67, 43]\n",
      "34\n",
      "45\n",
      "65\n"
     ]
    }
   ],
   "source": [
    "for i in range(0, 4):\n",
    "    print(i, marks[i])\n",
    "print(\"-\"*20)\n",
    "\n",
    "\n",
    "for mark in marks:\n",
    "    print(mark)"
   ]
  },
  {
   "cell_type": "code",
   "execution_count": 105,
   "metadata": {},
   "outputs": [
    {
     "name": "stdout",
     "output_type": "stream",
     "text": [
      "0 100\n",
      "1 101\n",
      "2 34\n",
      "3 56\n",
      "4 76\n",
      "5 45\n",
      "6 30\n",
      "7 [34, 67, 43]\n",
      "8 34\n",
      "9 45\n",
      "10 65\n"
     ]
    }
   ],
   "source": [
    "for i, mark in enumerate(marks):\n",
    "    print(i, mark)"
   ]
  },
  {
   "cell_type": "code",
   "execution_count": 110,
   "metadata": {},
   "outputs": [
    {
     "name": "stdout",
     "output_type": "stream",
     "text": [
      "1\n",
      "25\n",
      "49\n",
      "81\n",
      "81\n",
      "[]\n",
      "[1, 25, 49, 81, 81]\n"
     ]
    }
   ],
   "source": [
    "nums = [1, 5, 7, 9, 9]\n",
    "sq = []\n",
    "for i in nums:\n",
    "    print(i**2)\n",
    "print(sq)\n",
    "\n",
    "for i in nums:\n",
    "    sq.append(i**2)\n",
    "print(sq)"
   ]
  },
  {
   "cell_type": "code",
   "execution_count": null,
   "metadata": {},
   "outputs": [],
   "source": [
    "# give ex of nested list"
   ]
  },
  {
   "cell_type": "code",
   "execution_count": 113,
   "metadata": {},
   "outputs": [
    {
     "name": "stdout",
     "output_type": "stream",
     "text": [
      "[1, 5, 7, 9, 9]\n",
      "[9, 9, 7, 5, 1]\n"
     ]
    }
   ],
   "source": [
    "nums.sort()\n",
    "print(nums)\n",
    "nums.reverse()\n",
    "print(nums)"
   ]
  },
  {
   "cell_type": "code",
   "execution_count": 19,
   "metadata": {},
   "outputs": [
    {
     "name": "stdout",
     "output_type": "stream",
     "text": [
      "8 9 3 4 3 \n",
      "8 9 3 4 \n",
      "0 4 5 4 \n"
     ]
    }
   ],
   "source": [
    "#nested list\n",
    "li=[[8,9,3,4,3],[8,9,3,4],[0,4,5,4]]\n",
    "# li[0]=[8,9,4,3]\n",
    "for i in li:\n",
    "    for j in i :\n",
    "        print(j,end=' ')\n",
    "    print()    "
   ]
  },
  {
   "cell_type": "code",
   "execution_count": 114,
   "metadata": {},
   "outputs": [
    {
     "name": "stdout",
     "output_type": "stream",
     "text": [
      "()\n",
      "(1, 2, 3)\n"
     ]
    }
   ],
   "source": [
    "#tuple\n",
    "#mutable: can change, list\n",
    "#immutable : cannot change , tuple\n",
    "# We denote a tuple using ()\n",
    "# Strings are immutable\n",
    "# Tuple is a immutable version of a list\n",
    "\n",
    "tup0 = ()\n",
    "print(tup0)\n",
    "tup1 = (1, 2, 3)\n",
    "print(tup1)\n",
    "# tup1[1]=9 error give\n"
   ]
  },
  {
   "cell_type": "code",
   "execution_count": 115,
   "metadata": {},
   "outputs": [
    {
     "name": "stdout",
     "output_type": "stream",
     "text": [
      "1\n",
      "2\n",
      "3\n"
     ]
    }
   ],
   "source": [
    "# for loop on a tuple\n",
    "for element in (1, 2, 3):\n",
    "    print(element)\n",
    "# tuples are iterable"
   ]
  },
  {
   "cell_type": "code",
   "execution_count": 22,
   "metadata": {},
   "outputs": [
    {
     "name": "stdout",
     "output_type": "stream",
     "text": [
      "4 6 4 5 6 "
     ]
    }
   ],
   "source": [
    "tup=((4,6),(4,5,6))\n",
    "for i in tup:\n",
    "    for j in i:\n",
    "        print(j)"
   ]
  },
  {
   "cell_type": "code",
   "execution_count": 117,
   "metadata": {},
   "outputs": [
    {
     "name": "stdout",
     "output_type": "stream",
     "text": [
      "(1, 2)\n",
      "[1, 2]\n"
     ]
    }
   ],
   "source": [
    "# list to tuple or vice-versa is a breeze\n",
    "x = tuple([1, 2])\n",
    "print(x)\n",
    "y = list((1, 2))\n",
    "print(y)"
   ]
  },
  {
   "cell_type": "code",
   "execution_count": 120,
   "metadata": {},
   "outputs": [
    {
     "name": "stdout",
     "output_type": "stream",
     "text": [
      "vaishali\n"
     ]
    }
   ],
   "source": [
    "#dictionary is nothing but a key valew pairs\n",
    "d={}\n",
    "# print(type(d))\n",
    "d1={\"name\":\"vaishali\",\"lname\":\"kashyap\",\"learning\":\"python\"}\n",
    "print(d1[\"name\"])"
   ]
  },
  {
   "cell_type": "code",
   "execution_count": 130,
   "metadata": {},
   "outputs": [
    {
     "name": "stdout",
     "output_type": "stream",
     "text": [
      "{'Anne': 12234, 'Bob': 3456, 'Cathy': 6789}\n",
      "{'Anne': 12234, 'Bob': 3456, 'Cathy': 6789}\n",
      "<class 'dict_keys'>\n",
      "dict_values([12234, 3456, 6789])\n",
      "12234\n",
      "12234\n"
     ]
    }
   ],
   "source": [
    "phonebook = {\n",
    "    'Anne': 12234,\n",
    "    'Bob':3456,\n",
    "    'Cathy':6789\n",
    "}\n",
    "print(phonebook)\n",
    "\n",
    "phonebook_1 = dict([['Anne', 12234], ['Bob', 3456], ['Cathy', 6789]])\n",
    "print(phonebook_1)\n",
    "# print(phonebook.keys())\n",
    "s=phonebook.keys()\n",
    "print(type(s))\n",
    "print(phonebook.values())\n",
    "print(phonebook.get(\"Anne\"))\n",
    "print(phonebook[\"Anne\"])\n"
   ]
  },
  {
   "cell_type": "code",
   "execution_count": 122,
   "metadata": {},
   "outputs": [
    {
     "name": "stdout",
     "output_type": "stream",
     "text": [
      "{'name': 'Shubham', 'age': 20, 'address': {'city': 'Delhi', 'zip': 110001, 'house-no': 29}, 'friends': [{'name': 'Anant', 'age': 21, 'address': {'city': 'Noida', 'zip': 201301, 'house-no': 28}, 'friends': []}, {'name': 'Shivam', 'age': 20, 'address': {'city': 'Hyderabad', 'zip': 110002, 'house-no': 39}, 'friends': [{'name': 'Anant', 'age': 21, 'address': {'city': 'Noida', 'zip': 201301, 'house-no': 28}, 'friends': []}]}]}\n"
     ]
    }
   ],
   "source": [
    "#complex dict function\n",
    "person2 = {\n",
    "    'name': \"Anant\",\n",
    "    'age' : 21,\n",
    "    'address': {'city':'Noida', 'zip':201301, 'house-no': 28},\n",
    "    'friends' : []\n",
    "}\n",
    "\n",
    "person3 = {\n",
    "    'name': \"Shivam\",\n",
    "    'age' : 20,\n",
    "    'address': {'city':'Hyderabad', 'zip':110002, 'house-no': 39},\n",
    "    'friends' : [person2]\n",
    "}\n",
    "person1 = {\n",
    "    'name': \"Shubham\",\n",
    "    'age' : 20,\n",
    "    'address': {'city':'Delhi', 'zip':110001, 'house-no': 29},\n",
    "    'friends' : [person2, person3]\n",
    "}\n",
    "print(person1)"
   ]
  },
  {
   "cell_type": "code",
   "execution_count": 144,
   "metadata": {},
   "outputs": [
    {
     "name": "stdout",
     "output_type": "stream",
     "text": [
      "{'fjh': 8, 'hi': 'khk'}\n",
      "{'jhk': 9, 'jhi': 'kh'}\n"
     ]
    }
   ],
   "source": [
    "#if we do\n",
    "d1={\"jhk\":9,\"jhi\":\"kh\"}\n",
    "# print(d1)\n",
    "d2={\"fjh\":8,\"hi\":\"khk\"}\n",
    "print(d2)\n",
    "d2=d1 #both pointers points to same thing\n",
    "print(d2)\n",
    "del d1[\"jhk\"]"
   ]
  },
  {
   "cell_type": "code",
   "execution_count": 145,
   "metadata": {},
   "outputs": [
    {
     "name": "stdout",
     "output_type": "stream",
     "text": [
      "{'jhi': 'kh'}\n"
     ]
    }
   ],
   "source": [
    "print(d2)"
   ]
  },
  {
   "cell_type": "code",
   "execution_count": 151,
   "metadata": {},
   "outputs": [
    {
     "name": "stdout",
     "output_type": "stream",
     "text": [
      "kh\n",
      "{'jhi': 'kh', 'jikk': 'khi', 'jhiiiu': 9}\n"
     ]
    }
   ],
   "source": [
    "print(d2.get('jhi'))\n",
    "d2.update({\"jikk\":\"khi\"})\n",
    "d2[\"jhiiiu\"]=9\n",
    "print(d2)"
   ]
  },
  {
   "cell_type": "code",
   "execution_count": 152,
   "metadata": {},
   "outputs": [
    {
     "data": {
      "text/plain": [
       "dict_items([('jhi', 'kh'), ('jikk', 'khi'), ('jhiiiu', 9)])"
      ]
     },
     "execution_count": 152,
     "metadata": {},
     "output_type": "execute_result"
    }
   ],
   "source": [
    "d2.items()"
   ]
  },
  {
   "cell_type": "code",
   "execution_count": 28,
   "metadata": {},
   "outputs": [
    {
     "name": "stdout",
     "output_type": "stream",
     "text": [
      "prashant\n",
      "gugu\n",
      "dtdy\n",
      "8\n",
      "7\n",
      "4\n",
      "prashant 8\n",
      "gugu 7\n",
      "dtdy 4\n"
     ]
    }
   ],
   "source": [
    "#for loop in dict\n",
    "# roll_number_dict = {'prashant': 'CE0001', 'anant': 'CE0002','vaishali':'CE0003'}\n",
    "lis=[['prashant',8],['gugu',7],['dtdy',4]]\n",
    "dictt=dict(lis)\n",
    "# print(dictt)\n",
    "for i in dictt:#give only keys\n",
    "    print(i)\n",
    "for i in dictt.values():\n",
    "    print(i)    \n",
    "for key,value in dictt.items():\n",
    "    print(key,value)"
   ]
  },
  {
   "cell_type": "code",
   "execution_count": null,
   "metadata": {},
   "outputs": [],
   "source": [
    "roll_number_dict = {'prashant': 'CE0001', 'anant': 'CE0002','vaishali':'CE0003'}\n",
    "#give question to find the name whose number is CE0002"
   ]
  },
  {
   "cell_type": "code",
   "execution_count": 12,
   "metadata": {},
   "outputs": [
    {
     "name": "stdout",
     "output_type": "stream",
     "text": [
      "{4: 'f', 5: 'r', 6: 'e', 7: 't'}\n"
     ]
    }
   ],
   "source": [
    "li=[4,5,6,7,4]\n",
    "li1=['f','r','e','t']\n",
    "dictt={}\n",
    "for i ,j in zip(li,li1):\n",
    "    dictt[i]=j\n",
    "print(dictt)    "
   ]
  },
  {
   "cell_type": "code",
   "execution_count": 11,
   "metadata": {},
   "outputs": [
    {
     "name": "stdout",
     "output_type": "stream",
     "text": [
      "{'a': 6, 'e': 2, 'i': 4, 'o': 2, 'u': 1}\n"
     ]
    }
   ],
   "source": [
    "string = \"my name is vaishali , i am 24 year old , thank you\"\n",
    "# string=\"ouuoiaee\"\n",
    "#count all the vowel and save it in a dictionary\n",
    "dictt={'a':6,'e':2,'i':4,'o':2,'u':1} #order doesnt matter\n",
    "# we can iterate through the string and can check if it is a vowel , if so\n",
    "#we can increment te respectie vowel in the dict\n",
    "dictt={}\n",
    "for i in string:\n",
    "    if i in ['a','e','i','o','u']:\n",
    "        if i in dictt.keys():\n",
    "            dictt[i]=dictt[i]+1\n",
    "        else :\n",
    "            dictt[i]=1\n",
    "# print(dict(sorted(dictt.items())))  \n",
    "print(dictt)\n",
    "        "
   ]
  },
  {
   "cell_type": "code",
   "execution_count": 63,
   "metadata": {},
   "outputs": [
    {
     "ename": "TypeError",
     "evalue": "'zip' object is not callable",
     "output_type": "error",
     "traceback": [
      "\u001b[1;31m---------------------------------------------------------------------------\u001b[0m",
      "\u001b[1;31mTypeError\u001b[0m                                 Traceback (most recent call last)",
      "\u001b[1;32m<ipython-input-63-6838aa72888c>\u001b[0m in \u001b[0;36m<module>\u001b[1;34m\u001b[0m\n\u001b[0;32m      7\u001b[0m \u001b[1;31m# # to create empty set\u001b[0m\u001b[1;33m\u001b[0m\u001b[1;33m\u001b[0m\u001b[1;33m\u001b[0m\u001b[0m\n\u001b[0;32m      8\u001b[0m \u001b[0ms\u001b[0m\u001b[1;33m=\u001b[0m\u001b[0mset\u001b[0m\u001b[1;33m(\u001b[0m\u001b[1;33m)\u001b[0m \u001b[1;31m#it will create empty set\u001b[0m\u001b[1;33m\u001b[0m\u001b[1;33m\u001b[0m\u001b[0m\n\u001b[1;32m----> 9\u001b[1;33m \u001b[0mprint\u001b[0m\u001b[1;33m(\u001b[0m\u001b[0ms\u001b[0m\u001b[1;33m)\u001b[0m\u001b[1;33m\u001b[0m\u001b[1;33m\u001b[0m\u001b[0m\n\u001b[0m\u001b[0;32m     10\u001b[0m \u001b[1;33m\u001b[0m\u001b[0m\n\u001b[0;32m     11\u001b[0m \u001b[1;33m\u001b[0m\u001b[0m\n",
      "\u001b[1;31mTypeError\u001b[0m: 'zip' object is not callable"
     ]
    }
   ],
   "source": [
    "#sets: is kind a like list removes all the duplicate values\n",
    "# to create a set we can simply pass a list in set fuction\n",
    "# # s=set([1,5,3,6,4,6,4,3,4])\n",
    "# # print(s)\n",
    "# s={1,2,3,2,3}\n",
    "# # we cannot use {} to creat empty set , it will create dictionary, \n",
    "# # to create empty set\n",
    "# s=set() #it will create empty set\n",
    "# print(s)\n",
    "s={1,2,3,4,5}\n",
    "s.add(6) #it will add 6 , add function will only add one value\n",
    "# to add multiple value use update\n",
    "s.update([9,6,7])\n",
    "s1={8,5}\n",
    "s.update([10,56,45],s1)\n",
    "# remove value 5 from s1 \n",
    "s1.remove(5) #if 5 doesnt exist it will give error\n",
    "s1.discard(5)#do not give error if 5 is not present\n",
    "\n",
    "s1={1,2,3}\n",
    "s2={2,3,4}\n",
    "s3={3,4,5}\n",
    "# we want the common element from s1 nd s2\n",
    "s4=s1.intersection(s2)\n",
    "#common in all three\n",
    "s4=s1.intersection(s2,s3)\n",
    "#values are in s1 not in s2, use diffrece function\n",
    "s4=s1.difference(s2) #flip if are in s2 not in s1\n",
    "# want values of s2 not in s1 and s3\n",
    "s4=s2.difference(s1,s3)\n",
    "s4=s2.symmetric_difference(s1)#\n",
    "\n",
    "\n",
    "\n",
    "\n",
    "\n",
    "\n",
    "\n",
    "\n",
    "\n"
   ]
  },
  {
   "cell_type": "code",
   "execution_count": 30,
   "metadata": {},
   "outputs": [
    {
     "name": "stdout",
     "output_type": "stream",
     "text": [
      "[3, 5, 6, 4, 5, 5]\n",
      "[3, 5, 6, 4, 5, 5]\n"
     ]
    }
   ],
   "source": [
    "#list comprehensions\n",
    "#as we know this\n",
    "nums=[3,5,6,4,5,5]\n",
    "copy_nums=[]\n",
    "for i in nums:\n",
    "    copy_nums.append(i) #show example of i*i\n",
    "print(copy_nums)    \n",
    "#how to do this in list comprehension\n",
    "copy_nums2=[num for num in nums]\n",
    "print(copy_nums2)    "
   ]
  },
  {
   "cell_type": "code",
   "execution_count": 32,
   "metadata": {},
   "outputs": [
    {
     "name": "stdout",
     "output_type": "stream",
     "text": [
      "[76, 56, 44, 34]\n",
      "[76, 56, 44, 34]\n"
     ]
    }
   ],
   "source": [
    "#want all the even number from the list\n",
    "lis=[45,76,56,44,34,31,53,21]\n",
    "copy_nums=[]\n",
    "for i in lis:\n",
    "    if i%2==0:\n",
    "        copy_nums.append(i)\n",
    "print(copy_nums)\n",
    "\n",
    "copy_nums2=[]\n",
    "copy_nums2=[i for i in lis if i%2==0]\n",
    "print(copy_nums2)\n",
    "\n"
   ]
  },
  {
   "cell_type": "code",
   "execution_count": 58,
   "metadata": {},
   "outputs": [
    {
     "ename": "TypeError",
     "evalue": "'zip' object is not callable",
     "output_type": "error",
     "traceback": [
      "\u001b[1;31m---------------------------------------------------------------------------\u001b[0m",
      "\u001b[1;31mTypeError\u001b[0m                                 Traceback (most recent call last)",
      "\u001b[1;32m<ipython-input-58-2b505ff0fb92>\u001b[0m in \u001b[0;36m<module>\u001b[1;34m\u001b[0m\n\u001b[0;32m      8\u001b[0m \u001b[1;32mfor\u001b[0m  \u001b[0mi\u001b[0m\u001b[1;33m,\u001b[0m\u001b[0mj\u001b[0m \u001b[1;32min\u001b[0m \u001b[0mzip\u001b[0m\u001b[1;33m(\u001b[0m\u001b[0mnames\u001b[0m\u001b[1;33m,\u001b[0m\u001b[0mhobby\u001b[0m\u001b[1;33m)\u001b[0m\u001b[1;33m:\u001b[0m\u001b[1;33m\u001b[0m\u001b[1;33m\u001b[0m\u001b[0m\n\u001b[0;32m      9\u001b[0m     \u001b[0mdi\u001b[0m\u001b[1;33m[\u001b[0m\u001b[0mi\u001b[0m\u001b[1;33m]\u001b[0m\u001b[1;33m=\u001b[0m\u001b[0mj\u001b[0m\u001b[1;33m\u001b[0m\u001b[1;33m\u001b[0m\u001b[0m\n\u001b[1;32m---> 10\u001b[1;33m \u001b[0mprint\u001b[0m\u001b[1;33m(\u001b[0m\u001b[0mdi\u001b[0m\u001b[1;33m)\u001b[0m\u001b[1;33m\u001b[0m\u001b[1;33m\u001b[0m\u001b[0m\n\u001b[0m\u001b[0;32m     11\u001b[0m \u001b[1;33m\u001b[0m\u001b[0m\n\u001b[0;32m     12\u001b[0m \u001b[1;33m\u001b[0m\u001b[0m\n",
      "\u001b[1;31mTypeError\u001b[0m: 'zip' object is not callable"
     ]
    }
   ],
   "source": [
    "   \n",
    "\n",
    "names=['vaishali','akhil','nagendra']\n",
    "hobby=['sketching','singing','reading']\n",
    "#lets see about zip function\n",
    "#  zip(name,hobby) #zip function match one two one like vaishali with sketching\n",
    "# and soo on ,lets see where we can use this\n",
    "# question want a dictionary whose keys as name and values as hobby\n",
    "di={}\n",
    "for  i,j in zip(names,hobby):\n",
    "    di[i]=j\n",
    "print(zip(names,hobby))\n",
    "dt={}\n",
    "dt={i:j for i,j in zip(names,hobby)}\n",
    "print(dt) #we can add if stat after zip if want        \n",
    "    "
   ]
  },
  {
   "cell_type": "code",
   "execution_count": 64,
   "metadata": {},
   "outputs": [
    {
     "ename": "TypeError",
     "evalue": "'zip' object is not callable",
     "output_type": "error",
     "traceback": [
      "\u001b[1;31m---------------------------------------------------------------------------\u001b[0m",
      "\u001b[1;31mTypeError\u001b[0m                                 Traceback (most recent call last)",
      "\u001b[1;32m<ipython-input-64-66fefe248e74>\u001b[0m in \u001b[0;36m<module>\u001b[1;34m\u001b[0m\n\u001b[0;32m      4\u001b[0m \u001b[1;32mfor\u001b[0m \u001b[0mi\u001b[0m \u001b[1;32min\u001b[0m \u001b[0mnums\u001b[0m\u001b[1;33m:\u001b[0m\u001b[1;33m\u001b[0m\u001b[1;33m\u001b[0m\u001b[0m\n\u001b[0;32m      5\u001b[0m     \u001b[0mmy_set\u001b[0m\u001b[1;33m.\u001b[0m\u001b[0madd\u001b[0m\u001b[1;33m(\u001b[0m\u001b[0mi\u001b[0m\u001b[1;33m)\u001b[0m\u001b[1;33m\u001b[0m\u001b[1;33m\u001b[0m\u001b[0m\n\u001b[1;32m----> 6\u001b[1;33m \u001b[0mprint\u001b[0m\u001b[1;33m(\u001b[0m\u001b[0mmy_set\u001b[0m\u001b[1;33m)\u001b[0m\u001b[1;33m\u001b[0m\u001b[1;33m\u001b[0m\u001b[0m\n\u001b[0m",
      "\u001b[1;31mTypeError\u001b[0m: 'zip' object is not callable"
     ]
    }
   ],
   "source": [
    "#list comprehension of set\n",
    "nums=[3,4,5,2,3,4,5,7,8,6,7,1,9,2]\n",
    "my_set=set()\n",
    "for i in nums:\n",
    "    my_set.add(i)\n",
    "print(my_set)    "
   ]
  },
  {
   "cell_type": "code",
   "execution_count": null,
   "metadata": {},
   "outputs": [],
   "source": []
  }
 ],
 "metadata": {
  "kernelspec": {
   "display_name": "Python 3",
   "language": "python",
   "name": "python3"
  },
  "language_info": {
   "codemirror_mode": {
    "name": "ipython",
    "version": 3
   },
   "file_extension": ".py",
   "mimetype": "text/x-python",
   "name": "python",
   "nbconvert_exporter": "python",
   "pygments_lexer": "ipython3",
   "version": "3.8.5"
  }
 },
 "nbformat": 4,
 "nbformat_minor": 4
}
