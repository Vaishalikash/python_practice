{
 "cells": [
  {
   "cell_type": "markdown",
   "metadata": {},
   "source": [
    "# oops concept\n",
    "so python support all different programming : functional, object oriented ,procedural oriented programming\n",
    "okay so class allows us to logically group our data and functions\n",
    "here  we call these attributes and methods\n",
    "method:is the function of a class\n",
    "lets define a class"
   ]
  },
  {
   "cell_type": "code",
   "execution_count": 1,
   "metadata": {},
   "outputs": [],
   "source": [
    "# lets create a class of employee\n",
    "class employee:\n",
    "    pass  #empty class"
   ]
  },
  {
   "cell_type": "code",
   "execution_count": 2,
   "metadata": {},
   "outputs": [
    {
     "name": "stdout",
     "output_type": "stream",
     "text": [
      "<__main__.employee object at 0x000001A592B4C8B0>\n",
      "<__main__.employee object at 0x000001A592B4C850>\n"
     ]
    }
   ],
   "source": [
    "# class is blue print of intances,its just another name ofbject\n",
    "# , we can create each unique employee with\n",
    "# help of the class employee \n",
    "emp1=employee()\n",
    "emp2=employee()\n",
    "# so these 2 emp1 and emp2 will be own unique instances of the class\n",
    "print(emp1)\n",
    "print(emp2)\n",
    "#both ahve difference locations"
   ]
  },
  {
   "cell_type": "code",
   "execution_count": 4,
   "metadata": {},
   "outputs": [
    {
     "name": "stdout",
     "output_type": "stream",
     "text": [
      "kashyap\n"
     ]
    }
   ],
   "source": [
    "#lets create attributes of the instance\n",
    "emp1.first='vaishali'\n",
    "emp1.last='kashyap'\n",
    "emp1.id='98kjh'\n",
    "emp2.first='rahul'\n",
    "emp2.last='rathor'\n",
    "emp2.id='89hkh'\n",
    "# these are te instance variables and each intance variable has unique attribute\n",
    "print(emp1.last)"
   ]
  },
  {
   "cell_type": "code",
   "execution_count": 5,
   "metadata": {},
   "outputs": [
    {
     "name": "stdout",
     "output_type": "stream",
     "text": [
      "89hkh\n"
     ]
    }
   ],
   "source": [
    "# we cant always  manually assign values to the variable then what will be the\n",
    "# benifits of class so it can be done at the\n",
    "# time of creation of the variable we just have to give the values\n"
   ]
  },
  {
   "cell_type": "code",
   "execution_count": 6,
   "metadata": {},
   "outputs": [
    {
     "name": "stdout",
     "output_type": "stream",
     "text": [
      "idoi\n"
     ]
    }
   ],
   "source": [
    "# we will create speacial method calles init,we can say it is a constructor \n",
    "class employee:\n",
    "    def __init__(self,first,last,id):#so instance will pass thorugh this self,by the help of self\n",
    "        self.first=first #equals to emp1.first=\"rahul\"\n",
    "        self.last=last\n",
    "        self.id=id\n",
    "emp1=employee(\"rahul\",\"rathor\",\"idoi\")#instance will pass automatically   \n",
    "print(emp1.id)\n",
    "        "
   ]
  },
  {
   "cell_type": "code",
   "execution_count": 8,
   "metadata": {},
   "outputs": [
    {
     "name": "stdout",
     "output_type": "stream",
     "text": [
      "rahul.rathor@mphasis.com\n"
     ]
    }
   ],
   "source": [
    "class employee:\n",
    "    def __init__(self,first,last,id):#so instance will pass thorugh this self,by the help of self\n",
    "        self.first=first #equals to emp1.first=\"rahul\"\n",
    "        self.last=last\n",
    "        self.salary=salary\n",
    "    def email(self):#self is really imp\n",
    "        return self.first+'.'+self.last+'@mphasis.com'\n",
    "emp1=employee(\"rahul\",\"rathor\",50000)    \n",
    "print(emp1.email())  \n",
    "# how inside things work\n",
    "print(employee.email(emp1)) #emp1 instance will pass as self\n",
    "# so in this way we can create intances of the class\n",
    "# instance variable(first,last)are set using the self arguments"
   ]
  },
  {
   "cell_type": "code",
   "execution_count": 13,
   "metadata": {},
   "outputs": [
    {
     "name": "stdout",
     "output_type": "stream",
     "text": [
      "50000\n",
      "52500\n"
     ]
    }
   ],
   "source": [
    "#suppose we have to claculate the salary raise for every employee, we can create\n",
    "# a method for that right\n",
    "class employee:\n",
    "    raise_sal=1.05\n",
    "    def __init__(self,first,last,salary):#so instance will pass thorugh this self,by the help of self\n",
    "        self.first=first #equals to emp1.first=\"rahul\"\n",
    "        self.last=last\n",
    "        self.salary=salary\n",
    "    def email(self):#self is really imp\n",
    "        return self.first+'.'+self.last+'@mphasis.com'\n",
    "    def raiseSal(self):\n",
    "        self.salary=int(self.salary*self.raise_sal)\n",
    "emp1=employee(\"rahul\",\"dijd\",50000)\n",
    "emp2=employee(\"ddi\",\"diji\",98777)\n",
    "\n",
    "print(emp1.salary)\n",
    "emp1.raiseSal()\n",
    "print(emp1.salary)\n",
    "# here raise will be same for every instance/object,if we change it it will change for every\n",
    "# employee, these kind of variable are class variable/static variables\n",
    "#class variables :class variables are the variables that are shared betweeen all \n",
    "# the instances\n",
    "# instance variable(first,last,salary) are diffrent for every instance right\n",
    "# but the class variable will be same for every instance\n",
    "# class variable can also be calles using class name\n",
    "employee.raiseSal(emp1)\n",
    "print(emp1.salary)"
   ]
  },
  {
   "cell_type": "code",
   "execution_count": 17,
   "metadata": {},
   "outputs": [
    {
     "name": "stdout",
     "output_type": "stream",
     "text": [
      "1.08\n",
      "hello in employee\n"
     ]
    }
   ],
   "source": [
    "#methods:3 types of methods:instance,class,static\n",
    "# we have seen instance methods above , it takes instance as first argument\n",
    "# if method take class as first argument then it is a class method\n",
    "# for that we have to put one decorators @classmethod\n",
    "class employee:\n",
    "    raise_sal=1.05\n",
    "    def __init__(self,first,last,salary):#so instance will pass thorugh this self,by the help of self\n",
    "        self.first=first #equals to emp1.first=\"rahul\"\n",
    "        self.last=last\n",
    "        self.salary=salary\n",
    "    def email(self):#instance method because passing self\n",
    "        return self.first+'.'+self.last+'@mphasis.com'\n",
    "    @classmethod    #class methods work with class variable\n",
    "    def raiseAmt(cls,amount):#we are working with class except instances\n",
    "        cls.raise_sal=amount     #will access the class variable \n",
    "    #static method does not pass any class or self to arguments\n",
    "    #this method is nothing to do with instance or class varibale\n",
    "    @staticmethod\n",
    "    def info():\n",
    "        print(\"hello in employee class\")#we can do anything in it except using class and instance variable\n",
    "        \n",
    "    \n",
    "\n",
    "employee.raiseAmt(1.08)\n",
    "print(employee.raise_sal)\n",
    "employee.info()\n",
    "\n",
    "    "
   ]
  },
  {
   "cell_type": "code",
   "execution_count": 5,
   "metadata": {},
   "outputs": [
    {
     "name": "stdout",
     "output_type": "stream",
     "text": [
      "hp 8\n"
     ]
    }
   ],
   "source": [
    "#inner class\n",
    "# every employee has laptop and we want to group detials of laptop  as class inside the employee\n",
    "# we can define explicit but we know that this laptop class will only be used with employee\n",
    "# so we are defining laptop class inside the employee class\n",
    "class employee:\n",
    "    \n",
    "    def __init__(self,name,id):\n",
    "        self.name=name\n",
    "        self.id=id\n",
    "    def show(self):\n",
    "        print(\"name= \",self.name)\n",
    "        print(\"id= \",id)\n",
    "    class laptop:\n",
    "        def __init__(self,Brand,ram):\n",
    "            self.Brand=Brand\n",
    "            self.ram=ram\n",
    "        def show(self):\n",
    "            print(self.Brand , self.ram)\n",
    "emp1=employee(\"himank\",87878)\n",
    "lap1=emp1.laptop(\"hp\",8)\n",
    "lap1.show()\n",
    "         \n",
    "        \n",
    "        "
   ]
  },
  {
   "cell_type": "code",
   "execution_count": 40,
   "metadata": {},
   "outputs": [
    {
     "ename": "AttributeError",
     "evalue": "'bike' object has no attribute 'idd'",
     "output_type": "error",
     "traceback": [
      "\u001b[1;31m---------------------------------------------------------------------------\u001b[0m",
      "\u001b[1;31mAttributeError\u001b[0m                            Traceback (most recent call last)",
      "\u001b[1;32m<ipython-input-40-b6702dc0e654>\u001b[0m in \u001b[0;36m<module>\u001b[1;34m\u001b[0m\n\u001b[0;32m     23\u001b[0m \u001b[1;33m\u001b[0m\u001b[0m\n\u001b[0;32m     24\u001b[0m \u001b[0mb1\u001b[0m\u001b[1;33m=\u001b[0m\u001b[0mbike\u001b[0m\u001b[1;33m(\u001b[0m\u001b[1;34m\"abc\"\u001b[0m\u001b[1;33m,\u001b[0m\u001b[1;34m\"black\"\u001b[0m\u001b[1;33m,\u001b[0m\u001b[1;36m2\u001b[0m\u001b[1;33m)\u001b[0m\u001b[1;33m\u001b[0m\u001b[1;33m\u001b[0m\u001b[0m\n\u001b[1;32m---> 25\u001b[1;33m \u001b[0mb1\u001b[0m\u001b[1;33m.\u001b[0m\u001b[0mshow\u001b[0m\u001b[1;33m(\u001b[0m\u001b[1;33m)\u001b[0m\u001b[1;33m\u001b[0m\u001b[1;33m\u001b[0m\u001b[0m\n\u001b[0m\u001b[0;32m     26\u001b[0m \u001b[1;33m\u001b[0m\u001b[0m\n\u001b[0;32m     27\u001b[0m \u001b[1;33m\u001b[0m\u001b[0m\n",
      "\u001b[1;32m<ipython-input-21-709cbbf35174>\u001b[0m in \u001b[0;36mshow\u001b[1;34m(self)\u001b[0m\n\u001b[0;32m      4\u001b[0m         \u001b[0mself\u001b[0m\u001b[1;33m.\u001b[0m\u001b[0midd\u001b[0m\u001b[1;33m=\u001b[0m\u001b[0midd\u001b[0m\u001b[1;33m\u001b[0m\u001b[1;33m\u001b[0m\u001b[0m\n\u001b[0;32m      5\u001b[0m     \u001b[1;32mdef\u001b[0m \u001b[0mshow\u001b[0m\u001b[1;33m(\u001b[0m\u001b[0mself\u001b[0m\u001b[1;33m)\u001b[0m\u001b[1;33m:\u001b[0m\u001b[1;33m\u001b[0m\u001b[1;33m\u001b[0m\u001b[0m\n\u001b[1;32m----> 6\u001b[1;33m         \u001b[0mprint\u001b[0m\u001b[1;33m(\u001b[0m\u001b[1;34m\"id= \"\u001b[0m\u001b[1;33m,\u001b[0m\u001b[0mself\u001b[0m\u001b[1;33m.\u001b[0m\u001b[0midd\u001b[0m\u001b[1;33m)\u001b[0m\u001b[1;33m\u001b[0m\u001b[1;33m\u001b[0m\u001b[0m\n\u001b[0m\u001b[0;32m      7\u001b[0m \u001b[1;32mclass\u001b[0m \u001b[0mbike\u001b[0m\u001b[1;33m(\u001b[0m\u001b[0mvahicle\u001b[0m\u001b[1;33m)\u001b[0m\u001b[1;33m:\u001b[0m\u001b[1;33m\u001b[0m\u001b[1;33m\u001b[0m\u001b[0m\n\u001b[0;32m      8\u001b[0m     \u001b[1;32mdef\u001b[0m \u001b[0m__init__\u001b[0m\u001b[1;33m(\u001b[0m\u001b[0mself\u001b[0m\u001b[1;33m,\u001b[0m\u001b[0mname\u001b[0m\u001b[1;33m,\u001b[0m\u001b[0mcolor\u001b[0m\u001b[1;33m,\u001b[0m\u001b[0midd\u001b[0m\u001b[1;33m)\u001b[0m\u001b[1;33m:\u001b[0m\u001b[1;33m\u001b[0m\u001b[1;33m\u001b[0m\u001b[0m\n",
      "\u001b[1;31mAttributeError\u001b[0m: 'bike' object has no attribute 'idd'"
     ]
    }
   ],
   "source": [
    "# Inheritance is the capability of one class to derive or inherit the properties from another class.\n",
    " \n",
    "#inheritance : single inheritance\n",
    "class tyres:\n",
    "    def __init__(self,no):\n",
    "        self.no=no\n",
    "    def show(self):\n",
    "        print(\"id= \",self.no)   \n",
    "class bike(vahicle):\n",
    "    def __init__(self,name,color,no):\n",
    "        \n",
    "        self.name=name\n",
    "        self.color=color\n",
    "        tyres.__init__(self,no)\n",
    "#         super().__init__(no)\n",
    "    \n",
    "#     def show(self):\n",
    "#         pass\n",
    "       \n",
    "#         print(\"id= \",self.id) \n",
    "#         print(\"name\",self.name)\n",
    "#         print(\"color \",self.color) \n",
    "        \n",
    "b1=bike(\"abc\",\"black\",2)   \n",
    "b1.show()\n",
    "        \n",
    "        \n",
    "        \n",
    "    "
   ]
  },
  {
   "cell_type": "code",
   "execution_count": 24,
   "metadata": {},
   "outputs": [
    {
     "name": "stdout",
     "output_type": "stream",
     "text": [
      "id=  4\n",
      "name honda city\n",
      "color  sedan\n"
     ]
    }
   ],
   "source": [
    "# HIRARICal Linheritance\n",
    "class tyres:\n",
    "    def __init__(self,no):\n",
    "        self.no=no\n",
    "    def show(self):\n",
    "        print(\"id= \",self.no) \n",
    "class bike(tyres):\n",
    "    def __init__(self,name,color,no):\n",
    "        \n",
    "        self.name=name\n",
    "        self.color=color\n",
    "        tyres.__init__(self,no)\n",
    "    def show(self):\n",
    "        \n",
    "       \n",
    "        print(\"id= \",self.no) \n",
    "        print(\"name\",self.name)\n",
    "        print(\"color \",self.color)     \n",
    "        \n",
    "class car(tyres):\n",
    "    def __init__(self,name,car_type,no):\n",
    "        \n",
    "        self.name=name\n",
    "        self.car_type=car_type\n",
    "        tyres.__init__(self,no)\n",
    "        \n",
    "    def show(self):\n",
    "        \n",
    "       \n",
    "        print(\"id= \",self.no) \n",
    "        print(\"name=\",self.name)\n",
    "        print(\"total tyres \",self.car_type)\n",
    "car1=car(\"honda city\",\"sedan\",4)\n",
    "car1.show()\n",
    "    \n"
   ]
  },
  {
   "cell_type": "code",
   "execution_count": 6,
   "metadata": {},
   "outputs": [
    {
     "name": "stdout",
     "output_type": "stream",
     "text": [
      "blah\n"
     ]
    }
   ],
   "source": [
    "#multiple \n",
    "class A:\n",
    "    def __init__(self):\n",
    "        self.str1=\"vaishali\"\n",
    "    def show(self):\n",
    "        print(self.str1)\n",
    "class B:\n",
    "    def __init__(self):\n",
    "        self.str2=\"hiamnk\"\n",
    "    def show(self):\n",
    "        print(self.str2) \n",
    "class c(A,B):\n",
    "    def __init__(self):\n",
    "        self.str3=\"blah\"\n",
    "        super()__init__()#call A init prefer left one first,same with method\n",
    "#         A.__init__(self)\n",
    "#         B.__init__(self)\n",
    "    def show(self):\n",
    "        print(self.str3)\n",
    "#         print(self.str1,self.str2,self.str3)\n",
    "              \n",
    "objc=c()\n",
    "objc.show()              \n",
    "        \n",
    "        \n"
   ]
  },
  {
   "cell_type": "code",
   "execution_count": 3,
   "metadata": {},
   "outputs": [
    {
     "name": "stdout",
     "output_type": "stream",
     "text": [
      "vaishali\n"
     ]
    }
   ],
   "source": [
    "#MULTIPLE INHERITANCE\n",
    "class A:\n",
    "    def __init__(self):\n",
    "        self.str1=\"vaishali\"\n",
    "    def show(self):\n",
    "        print(self.str1)\n",
    "class B(A):\n",
    "    def __init__(self):\n",
    "        self.str2=\"hiamnk\"\n",
    "#     def show(self):\n",
    "#         print(self.str2) \n",
    "class c(B):\n",
    "    def __init__(self):\n",
    "        self.str3=\"blah\"\n",
    "        A.__init__(self)\n",
    "        B.__init__(self)\n",
    "#     def show(self):\n",
    "#         print(self.str1,self.str2,self.str3)\n",
    "obc=c()\n",
    "obc.show()\n",
    "              "
   ]
  },
  {
   "cell_type": "code",
   "execution_count": 45,
   "metadata": {},
   "outputs": [
    {
     "name": "stdout",
     "output_type": "stream",
     "text": [
      "8.0\n"
     ]
    }
   ],
   "source": [
    "class student:\n",
    "    def __init__(self,var1,var2,var3):\n",
    "        self.var1=var1\n",
    "        self.var2=var2\n",
    "        self.var3=var3\n",
    "    def averagee(self):\n",
    "        return (self.var1+self.var2+self.var3)/3\n",
    "    def __repr__(self):\n",
    "        return \"marks= {}, {}, {} {} \".format(self.var1,self.var2,self.var3,self.averagee())#should return string\n",
    "    def __str__(self):\n",
    "            return\"{}\".format(self.averagee())\n",
    "obj=student(7,9,8)\n",
    "print(obj)#it will give the memory address\n",
    "# ob.show()\n",
    "#we want values of object by printing print(ob) use speacial method__rapr_\n",
    "        \n",
    "# ob=student(2,3,4)        \n"
   ]
  },
  {
   "cell_type": "code",
   "execution_count": 29,
   "metadata": {},
   "outputs": [],
   "source": [
    "#polymorphism: having many forms,we can say same function name but diffrent uses offor different types\n",
    "# just like other languages polymorphism can also b implemented in\n",
    "# python by operator overloading, method overloading,method overriding,ducktyping"
   ]
  },
  {
   "cell_type": "code",
   "execution_count": 46,
   "metadata": {},
   "outputs": [],
   "source": [
    "#operaor oerloading\n",
    "#operators wiil be same operatios or operand cnges\n",
    "# 5+9\n",
    "# str1+str22 concatinate\n",
    "# a=5\n",
    "# b=hello\n",
    "# a+b give error\n",
    "# when a=2,b=3\n",
    "# print(a+b)=print(int.__add__(a.b))#how internally things work #int is class\n",
    "# *__mul__\n",
    "# -__sub__"
   ]
  },
  {
   "cell_type": "code",
   "execution_count": 47,
   "metadata": {},
   "outputs": [
    {
     "name": "stdout",
     "output_type": "stream",
     "text": [
      "10\n"
     ]
    }
   ],
   "source": [
    "class student:\n",
    "    def __init__(self,m1,m2):\n",
    "        self.m1=m1\n",
    "        self.m2=m2\n",
    "    def __add__(self,k):\n",
    "        m1=self.m1+k.m1\n",
    "        m2=self.m2+k.m2\n",
    "        s3=student(m1,m2)\n",
    "        return s3\n",
    "        \n",
    "s1=student(2,3)\n",
    "s2=student(8,7)\n",
    "s3=s1+s2\n",
    "print(s3.m2)\n",
    "        "
   ]
  },
  {
   "cell_type": "code",
   "execution_count": null,
   "metadata": {},
   "outputs": [],
   "source": [
    "a=8\n",
    "print(a)a. __str__\n",
    "print(s1) class does not comtain strr , so we have to overload the srrt method"
   ]
  }
 ],
 "metadata": {
  "kernelspec": {
   "display_name": "Python 3",
   "language": "python",
   "name": "python3"
  },
  "language_info": {
   "codemirror_mode": {
    "name": "ipython",
    "version": 3
   },
   "file_extension": ".py",
   "mimetype": "text/x-python",
   "name": "python",
   "nbconvert_exporter": "python",
   "pygments_lexer": "ipython3",
   "version": "3.8.5"
  }
 },
 "nbformat": 4,
 "nbformat_minor": 4
}
